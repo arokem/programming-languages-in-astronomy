{
 "cells": [
  {
   "cell_type": "markdown",
   "metadata": {},
   "source": [
    "Counting programming language mentions in astronomy papers\n",
    "==========================================================\n",
    "\n",
    "\"2016 Edition\" Author: Juan Nunez-Iglesias.\n",
    "\n",
    "Adapted from code [written by](https://nbviewer.jupyter.org/github/astrofrog/mining_acknowledgments/blob/master/Mining%20acknowledgments%20in%20ADS.ipynb)\n",
    "[Thomas P. Robitaille](http://mpia.de/~robitaille/)\n",
    "and\n",
    "[updated by](https://nbviewer.jupyter.org/github/ChrisBeaumont/adass_proceedings/blob/master/Mining%20acknowledgments%20in%20ADS.ipynb)\n",
    "[Chris Beaumont](https://chrisbeaumont.org/).\n",
    "\n",
    "This work is licensed under a [Creative Commons Attribution-NonCommercial-ShareAlike 3.0 Unported](http://creativecommons.org/licenses/by-nc-sa/3.0/deed.en_US) License.\n",
    "\n",
    "![license](http://i.creativecommons.org/l/by-nc-sa/3.0/88x31.png)"
   ]
  },
  {
   "cell_type": "markdown",
   "metadata": {},
   "source": [
    "A couple of years ago I came across [this tweet](https://twitter.com/BeaumontChris/status/517412133181865984) by Chris Beaumont, showing Python overtaking Matlab and rapidly gaining ground on IDL in astronomy.\n",
    "\n",
    "I've referred to that plot a couple of times in the past, but now that I wanted to use it in a talk, I thought it was time to update it. Hence, this notebook."
   ]
  },
  {
   "cell_type": "markdown",
   "metadata": {},
   "source": [
    "First, let's import everything we need. You can install it all using either conda or pip."
   ]
  },
  {
   "cell_type": "code",
   "execution_count": 1,
   "metadata": {
    "collapsed": true
   },
   "outputs": [],
   "source": [
    "%matplotlib inline\n",
    "import os\n",
    "\n",
    "import brewer2mpl\n",
    "import numpy as np\n",
    "import matplotlib as mpl\n",
    "import matplotlib.pyplot as plt\n",
    "import pandas as pd\n",
    "from prettyplotlib.utils import remove_chartjunk\n",
    "from datetime import datetime, date"
   ]
  },
  {
   "cell_type": "markdown",
   "metadata": {},
   "source": [
    "Let's set some nice Matplotlib defaults. Note that there is a deprecation warning when setting the default color cycle, but I can't be bothered tracking down the fix. (It is not the simple replacement suggested by the deprecation message.)"
   ]
  },
  {
   "cell_type": "code",
   "execution_count": 2,
   "metadata": {
    "collapsed": false
   },
   "outputs": [
    {
     "name": "stderr",
     "output_type": "stream",
     "text": [
      "/Users/nuneziglesiasj/anaconda/envs/ana3/lib/python3.5/site-packages/matplotlib/__init__.py:872: UserWarning: axes.color_cycle is deprecated and replaced with axes.prop_cycle; please use the latter.\n",
      "  warnings.warn(self.msg_depr % (key, alt_key))\n"
     ]
    }
   ],
   "source": [
    "mpl.rcParams['axes.color_cycle'] = brewer2mpl.get_map('Paired', 'qualitative', 12).mpl_colors[1::2] + [(0.94, 0.01, 0.50)]\n",
    "mpl.rcParams['figure.figsize'] = (9,6)\n",
    "mpl.rcParams['font.size'] = 14"
   ]
  },
  {
   "cell_type": "markdown",
   "metadata": {},
   "source": [
    "Next, we import the [`ads` Python library](https://pypi.python.org/pypi/ads), which simplifies queries to the [Astrophysics Data System](https://ui.adsabs.harvard.edu). (The original notebooks used `requests` to create direct JSON queries, but the API appears to have changed in the meantime. I hope that using the `ads` library, someone else will take care of keeping the API queries up to date.)\n",
    "\n",
    "To run this notebook, **you need to get a free API key** to allow queries to the ADS system. Create an account at [ADS](https://ui.adsabs.harvard.edu), log in, and then look for \"Generate a new key\" under your user profile.\n",
    "\n",
    "Then, copy that key into a file called `.ads/dev_key` in your home directory. (You can also pass it as a string using the `token=<my_key>` keyword argument to `SearchQuery`, below)"
   ]
  },
  {
   "cell_type": "code",
   "execution_count": 3,
   "metadata": {
    "collapsed": true
   },
   "outputs": [],
   "source": [
    "import ads as ads"
   ]
  },
  {
   "cell_type": "markdown",
   "metadata": {},
   "source": [
    "The ADS system has a daily limit to the number of queries you can perform with a given key (I think 5,000, as of this writing). So that you're not wasting queries while you're developing, you can use the `ads.sandbox` package that will return mock results to your queries. Uncomment the following cell to use the sandbox instead of the real API."
   ]
  },
  {
   "cell_type": "code",
   "execution_count": 4,
   "metadata": {
    "collapsed": true
   },
   "outputs": [],
   "source": [
    "# Uncomment the following line to use the sandbox\n",
    "#import ads.sandbox as ads"
   ]
  },
  {
   "cell_type": "markdown",
   "metadata": {},
   "source": [
    "Next, we write a function that will count up how many results an individual query and year return, as well as a function to combine related queries (such as 'MATLAB' and 'Matlab')."
   ]
  },
  {
   "cell_type": "code",
   "execution_count": 5,
   "metadata": {
    "collapsed": false
   },
   "outputs": [],
   "source": [
    "def yearly_counts(query='', years=(2000, 2017),\n",
    "                  acknowledgements=False):\n",
    "    if acknowledgements:\n",
    "        query = 'ack:' + query\n",
    "    modifiers = ' '.join(['year:%i'])\n",
    "    full_query = ' '.join([query, modifiers])\n",
    "    filter_query = ['database:astronomy',\n",
    "                    'property:refereed']\n",
    "    results = []\n",
    "    for year in range(*years):\n",
    "        papers = ads.SearchQuery(q=full_query % year,\n",
    "                                 fq=filter_query)\n",
    "        papers.execute()\n",
    "        count = int(papers.response.numFound)\n",
    "        total_papers = ads.SearchQuery(q=modifiers % year)\n",
    "        total_papers.execute()\n",
    "        total_count = int(total_papers.response.numFound)\n",
    "        now = datetime.now().timetuple()\n",
    "        if year == now.tm_year:\n",
    "            days_in_year = date(year, 12, 31).timetuple().tm_yday\n",
    "            count *= days_in_year / now.tm_yday\n",
    "            total_count *= days_in_year / now.tm_yday\n",
    "        results.append([year, count, total_count])\n",
    "    return np.array(results)\n",
    "\n",
    "def combine_results(res):\n",
    "    combined = res[0]\n",
    "    for r in res[1:]:\n",
    "        combined[:, 1:] += r[:, 1:]\n",
    "    return combined"
   ]
  },
  {
   "cell_type": "markdown",
   "metadata": {},
   "source": [
    "Finally, create a dictionary mapping languages to queries. I've left some of the original queries commented out, but you can uncomment them if you care about those languages in astronomy.\n",
    "\n",
    "As a side note, a simple measure of how annoying a language's name is is given by the number of queries necessary to find its mentions."
   ]
  },
  {
   "cell_type": "code",
   "execution_count": 6,
   "metadata": {
    "collapsed": true
   },
   "outputs": [],
   "source": [
    "languages = {\n",
    "    'IDL': ['IDL'], \n",
    "    'Python': ['Python'], \n",
    "    'Matlab': ['MATLAB', 'Matlab'], \n",
    "#    'Fortran': ['Fortran', 'FORTRAN'], \n",
    "#    'Java': ['Java'],\n",
    "#    'C': ['C programming language', 'C language',\n",
    "#          'C code', 'C library', 'C module'],\n",
    "#    'R': ['R programming language', 'R language',\n",
    "#          'R code', 'R library', 'R module'],\n",
    "}"
   ]
  },
  {
   "cell_type": "markdown",
   "metadata": {},
   "source": [
    "The next cell runs the queries. Don't waste those API hits!"
   ]
  },
  {
   "cell_type": "code",
   "execution_count": 7,
   "metadata": {
    "collapsed": false
   },
   "outputs": [],
   "source": [
    "results = {name: combine_results([yearly_counts(query)\n",
    "                                  for query in queries])\n",
    "           for name, queries in languages.items()}"
   ]
  },
  {
   "cell_type": "markdown",
   "metadata": {},
   "source": [
    "Finally, define a function to plot the results:"
   ]
  },
  {
   "cell_type": "code",
   "execution_count": 8,
   "metadata": {
    "collapsed": false
   },
   "outputs": [],
   "source": [
    "def trendlines(queries, norm=False):\n",
    "    for q in queries:\n",
    "        counts = queries[q]\n",
    "        x = counts[:, 0]\n",
    "        y = np.copy(counts[:, 1])\n",
    "        if norm:\n",
    "            y /= counts[:, 2]\n",
    "        plt.plot(x, y * 100, label=q, lw=4, alpha=0.8)\n",
    "    plt.xlim(np.min(x), np.max(x))\n",
    "    plt.xlabel('Year')\n",
    "    plt.ylabel('Percent of Refereed\\nPublications Mentioning')\n",
    "    plt.legend(loc='upper left', frameon=False)\n",
    "    remove_chartjunk(plt.gca(), ['top', 'right'])    "
   ]
  },
  {
   "cell_type": "code",
   "execution_count": 9,
   "metadata": {
    "collapsed": false
   },
   "outputs": [
    {
     "data": {
      "image/png": "[encoded data removed]",
      "text/plain": [
       "<matplotlib.figure.Figure at 0x1166430f0>"
      ]
     },
     "metadata": {},
     "output_type": "display_data"
    }
   ],
   "source": [
    "trendlines(results, norm=True)\n",
    "plt.savefig('/Users/nuneziglesiasj/Desktop/python-vs-matlab-vs-IDL-in-astro.pdf')"
   ]
  },
  {
   "cell_type": "markdown",
   "metadata": {},
   "source": [
    "There you have it: some time in early 2015, Python overtook IDL as the most mentioned (and probably the most used) programming language in astronomy!"
   ]
  }
 ],
 "metadata": {
  "kernelspec": {
   "display_name": "Python 3",
   "language": "python",
   "name": "python3"
  },
  "language_info": {
   "codemirror_mode": {
    "name": "ipython",
    "version": 3
   },
   "file_extension": ".py",
   "mimetype": "text/x-python",
   "name": "python",
   "nbconvert_exporter": "python",
   "pygments_lexer": "ipython3",
   "version": "3.5.2"
  }
 },
 "nbformat": 4,
 "nbformat_minor": 0
}
